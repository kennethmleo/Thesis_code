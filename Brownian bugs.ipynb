{
 "cells": [
  {
   "cell_type": "code",
   "execution_count": 1,
   "metadata": {},
   "outputs": [],
   "source": [
    "import numpy as np\n",
    "import collections\n",
    "import pandas as pd\n",
    "import networkx as nx\n",
    "import matplotlib.pyplot as plt\n",
    "import matplotlib.animation as animate\n",
    "from IPython.display import HTML\n",
    "%matplotlib inline"
   ]
  },
  {
   "cell_type": "markdown",
   "metadata": {},
   "source": [
    "### Create Brownian bug function"
   ]
  },
  {
   "cell_type": "code",
   "execution_count": 2,
   "metadata": {},
   "outputs": [],
   "source": [
    "def brownian_bug(N, birth, death, step, A, phi, theta, df):\n",
    "    bug_no = np.array(df['bug_no'].tolist(), float)\n",
    "    pos_x = np.array(df['pos_x'].tolist(), float)\n",
    "    pos_y = np.array(df['pos_y'].tolist(), float)\n",
    "    \n",
    "    counter = len(bug_no)\n",
    "    temp_death = 0\n",
    "    temp_birth = 0\n",
    "\n",
    "    for i in range(counter):\n",
    "        chance = np.random.random()\n",
    "        if chance <= birth:\n",
    "            bug_no = np.append(bug_no, max(bug_no) + 1)\n",
    "            pos_x = np.append(pos_x, pos_x[i-temp_death])\n",
    "            pos_y = np.append(pos_y, pos_y[i-temp_death])\n",
    "            temp_birth += 1\n",
    "        elif chance > birth and chance <= birth+death:\n",
    "            bug_no = np.delete(bug_no, i-temp_death)\n",
    "            pos_x = np.delete(pos_x, i-temp_death)\n",
    "            pos_y = np.delete(pos_y, i-temp_death)\n",
    "            temp_death += 1\n",
    "\n",
    "    if len(bug_no) == 0:\n",
    "        return print(\"Network: extinct\")\n",
    "\n",
    "    for k in range(len(pos_x)):\n",
    "        angle = np.random.randint(0,361)\n",
    "        angle = angle*np.pi/180\n",
    "\n",
    "        pos_x[k] += step*np.cos(angle)\n",
    "        pos_y[k] += step*np.sin(angle)\n",
    "\n",
    "        #advection Stanford map\n",
    "        pos_x[k] = pos_x[k] + ((A/(2*np.pi)) * np.sin(2*np.pi*pos_y[k]))\n",
    "        pos_y[k] = pos_y[k] + pos_x[k]\n",
    "\n",
    "        while pos_x[k] < 0 or pos_x[k] > 1 or pos_y[k] > 1 or pos_y[k] < 0:\n",
    "            if pos_x[k] < 0: pos_x[k] +=1\n",
    "            if pos_x[k] > 1: pos_x[k] -=1\n",
    "            if pos_y[k] < 0: pos_y[k] +=1\n",
    "            if pos_y[k] > 1: pos_y[k] -=1\n",
    "        \n",
    "    \n",
    "    d = {'bug_no': bug_no, 'pos_x': pos_x, 'pos_y': pos_y}\n",
    "    dataframe = pd.DataFrame(d)\n",
    "    \n",
    "    return dataframe"
   ]
  },
  {
   "cell_type": "markdown",
   "metadata": {},
   "source": [
    "### Create network dataframe"
   ]
  },
  {
   "cell_type": "code",
   "execution_count": 3,
   "metadata": {},
   "outputs": [],
   "source": [
    "def distance(po_0,po_1, p1_0, p1_1):\n",
    "    return np.sqrt((po_0 - p1_0)**2 + (po_1 - p1_1)**2)\n",
    "\n",
    "def create_network_dataframe(dataframe):\n",
    "    df = dataframe\n",
    "    distances = 0\n",
    "    transmission_radius = 0.1\n",
    "    Network = []\n",
    "    for i in range(len(df)):\n",
    "        #if i%200==0: print('running')\n",
    "        for j in range(len(df)):\n",
    "            if i == j:\n",
    "                continue\n",
    "            else:\n",
    "                distances = distance(df['pos_x'][i],df['pos_y'][i],df['pos_x'][j],df['pos_y'][j])\n",
    "                if distances <= transmission_radius: \n",
    "                    edge = 1\n",
    "                    dist = distances\n",
    "                    cost = distances**2\n",
    "                else: \n",
    "                    edge = 0\n",
    "                    dist = distances\n",
    "                    cost = 0\n",
    "\n",
    "                Network.append({'1_node': i, '1_node_val_x': df['pos_x'][i], '1_node_val_y': df['pos_y'][i], '2_node': j, \n",
    "                                '2_node_val_x': df['pos_x'][j], '2_node_val_y': df['pos_y'][j], 'edge': edge, 'cost': cost,\n",
    "                                'distance': dist})\n",
    "\n",
    "    df = pd.DataFrame(Network)\n",
    "    return df"
   ]
  },
  {
   "cell_type": "markdown",
   "metadata": {},
   "source": [
    "### Create network"
   ]
  },
  {
   "cell_type": "code",
   "execution_count": 41,
   "metadata": {},
   "outputs": [],
   "source": [
    "def create_network(dataframe):\n",
    "    network = dataframe\n",
    "    G_original_network = nx.Graph()\n",
    "\n",
    "    n1 = network['1_node'].tolist()\n",
    "    n2 = network['2_node'].tolist()\n",
    "    nvalsx = network['1_node_val_x'].tolist()\n",
    "    nvalsy = network['1_node_val_y'].tolist()\n",
    "    nvalsx2 = network['2_node_val_x'].tolist()\n",
    "    nvalsy2 = network['2_node_val_y'].tolist()\n",
    "    edge = network['edge'].tolist()\n",
    "\n",
    "    for i in range(len(n1)):\n",
    "        G_original_network.add_node(int(n1[i]), pos = (nvalsx[i], nvalsy[i]))\n",
    "\n",
    "    for i in range(len(n2)):\n",
    "        G_original_network.add_node(int(n2[i]), pos = (nvalsx2[i], nvalsy2[i]))\n",
    "\n",
    "    pos=nx.get_node_attributes(G_original_network,'pos')\n",
    "\n",
    "    for i in range(len(n1)):\n",
    "        if edge[i] != 0:\n",
    "            G_original_network.add_edge(int(n1[i]),int(n2[i]),weight=float(edge[i]))\n",
    "    \n",
    "    return G_original_network, pos"
   ]
  },
  {
   "cell_type": "markdown",
   "metadata": {},
   "source": [
    "### Visualize network"
   ]
  },
  {
   "cell_type": "code",
   "execution_count": 42,
   "metadata": {},
   "outputs": [],
   "source": [
    "def plot_network(G_original_network, pos):\n",
    "    plt.figure(figsize=(3, 3))\n",
    "    nx.draw_networkx(G_original_network, pos,with_labels=False,edge_color='blue',style = 'solid',width = 0.7, node_size = 8, node_color='blue')\n",
    "    plt.draw()"
   ]
  }
 ],
 "metadata": {
  "kernelspec": {
   "display_name": "Python 3",
   "language": "python",
   "name": "python3"
  },
  "language_info": {
   "codemirror_mode": {
    "name": "ipython",
    "version": 3
   },
   "file_extension": ".py",
   "mimetype": "text/x-python",
   "name": "python",
   "nbconvert_exporter": "python",
   "pygments_lexer": "ipython3",
   "version": "3.6.7"
  }
 },
 "nbformat": 4,
 "nbformat_minor": 2
}
